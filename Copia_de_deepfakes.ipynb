{
  "nbformat": 4,
  "nbformat_minor": 0,
  "metadata": {
    "colab": {
      "name": "Copia de deepfakes.ipynb",
      "provenance": [],
      "collapsed_sections": [],
      "toc_visible": true,
      "include_colab_link": true
    },
    "kernelspec": {
      "display_name": "Python 3",
      "name": "python3"
    },
    "accelerator": "GPU"
  },
  "cells": [
    {
      "cell_type": "markdown",
      "metadata": {
        "id": "view-in-github",
        "colab_type": "text"
      },
      "source": [
        "<a href=\"https://colab.research.google.com/github/Alderan7/01_REP_INICIAL-/blob/master/Copia_de_deepfakes.ipynb\" target=\"_parent\"><img src=\"https://colab.research.google.com/assets/colab-badge.svg\" alt=\"Open In Colab\"/></a>"
      ]
    },
    {
      "cell_type": "markdown",
      "metadata": {
        "id": "N-usDSKdzzuC"
      },
      "source": [
        "# **Reinventa la película: Crea tu propio Deep Fake**\n",
        "\n",
        "Bienvenido al ejercicio práctico del taller **Reinventa la película** de **Saturdays.AI** y **Epitech**.\n",
        "\n",
        "**Descripción del problema**\n",
        "\n",
        "Crea tu propio Deepfake transfiriendo las expresiones faciales de un video a una imagen estática.\n",
        "\n",
        "**Competencias**\n",
        "\n",
        "Al final de esta práctica serás capaz de manejar notebooks de Python, ejecutar modelos de inteligencia artificial y generar Deepfakes preprocesando previamente los datos."
      ]
    },
    {
      "cell_type": "markdown",
      "metadata": {
        "id": "vWxwbYjE1Cvk"
      },
      "source": [
        "En esta práctica vamos a realizar una demo del artículo [First Order Motion Model for Image Animation](https://aliaksandrsiarohin.github.io/first-order-model-website/) de Aliaksandr Siarohin. En concreto, utilizaremos técnicas de IA para generar un Deepfake trasladando las expresiones faciales de un video a una imágen estática.\n",
        "\n",
        "Lo primero que haremos será configurar el entorno de ejecución. Este representará la máquina sobre la cual ejecutaremos nuestros modelos. Debido a que trabajaremos con modelos muy grandes, normalmente será más conveniente trabajar sobre una GPU (gráfica) que sobre una CPU debido a su potecia de cálculo.\n",
        "\n",
        "Para cambiar tu entorno de ejecución a GPU selecciona en la parte superior del notebook la opción **Entorno de ejecución** y **Cambiar tipo de entorno de ejecución**. En el desplegable **Acelerador por hardware** selecciona la opción **GPU** y dale a **Guardar**. Ya tienes todo listo para comenzar a trabajar."
      ]
    },
    {
      "cell_type": "code",
      "metadata": {
        "id": "Fr761oG5M_4q"
      },
      "source": [
        ""
      ],
      "execution_count": null,
      "outputs": []
    },
    {
      "cell_type": "markdown",
      "metadata": {
        "id": "grLUOWYm8gLi"
      },
      "source": [
        "Lo primero que haremos será clonar el repositorio del artículo original. De este modo tendremos acceso al código que nos permitirá llevar a cabo nuestro Deepfake. Para ello deberás ejecutar las siguientes celdas."
      ]
    },
    {
      "cell_type": "code",
      "metadata": {
        "id": "JKunwvMH1fNe",
        "colab": {
          "base_uri": "https://localhost:8080/"
        },
        "outputId": "1336a05d-e2c4-4d56-854f-cf0d3f51f233"
      },
      "source": [
        "!git clone https://github.com/AliaksandrSiarohin/first-order-model"
      ],
      "execution_count": null,
      "outputs": [
        {
          "output_type": "stream",
          "text": [
            "Cloning into 'first-order-model'...\n",
            "remote: Enumerating objects: 249, done.\u001b[K\n",
            "remote: Total 249 (delta 0), reused 0 (delta 0), pack-reused 249\u001b[K\n",
            "Receiving objects: 100% (249/249), 72.12 MiB | 36.45 MiB/s, done.\n",
            "Resolving deltas: 100% (123/123), done.\n"
          ],
          "name": "stdout"
        }
      ]
    },
    {
      "cell_type": "code",
      "metadata": {
        "id": "wBW3pWHH2UiJ",
        "colab": {
          "base_uri": "https://localhost:8080/"
        },
        "outputId": "71c516a9-55b5-43a0-ad07-17808e1429f7"
      },
      "source": [
        "cd first-order-model"
      ],
      "execution_count": null,
      "outputs": [
        {
          "output_type": "stream",
          "text": [
            "/content/first-order-model\n"
          ],
          "name": "stdout"
        }
      ]
    },
    {
      "cell_type": "markdown",
      "metadata": {
        "id": "BvM30rXm2PNg"
      },
      "source": [
        "A continuación deberás asociar tu cuenta de Google Drive a este notebook para así alojar el material que utilizarás para construir tu Deepfake. Al ejecutar la siguiente celda deberás aceptar el acceso, momento en el que recibirás un código que deberás introducir para finalizar la sincronización."
      ]
    },
    {
      "cell_type": "code",
      "metadata": {
        "id": "JgAe0qlG21YY"
      },
      "source": [
        "from google.colab import drive\n",
        "drive.mount('/content/gdrive')"
      ],
      "execution_count": null,
      "outputs": []
    },
    {
      "cell_type": "markdown",
      "metadata": {
        "id": "faoPOK7f3Gh4"
      },
      "source": [
        "Descarga y añade [esta carpeta](https://drive.google.com/drive/folders/1kZ1gCnpfU0BnpdU47pLM_TQ6RypDDqgw) a tu unidad de Drive. La carpeta contiene distintos videos e imágenes de ejemplo para generar un primer Deepfake controlado. Será la misma carpeta en la que más adelante podrás subir tu propio material.\n",
        "\n",
        "El siguiente paso será importar el video y la imagen que utilizaremos para generar el Deepfake. Puedes probar distintas combinaciones modificando las rutas de las variables *source_image* (imagen objetivo) y *reader* (video modelo). En la carpeta que has descargado anteriormente podrás ver todas las posibles combinaciones que puedes realizar.\n",
        "\n",
        "Tras ejecutar la celda verás por pantalla el video y la imagen escogida."
      ]
    },
    {
      "cell_type": "code",
      "metadata": {
        "id": "Kx9FNfw93UUF"
      },
      "source": [
        "import imageio\n",
        "import numpy as np\n",
        "import matplotlib.pyplot as plt\n",
        "import matplotlib.animation as animation\n",
        "from skimage.transform import resize\n",
        "from IPython.display import HTML\n",
        "import warnings\n",
        "warnings.filterwarnings(\"ignore\")\n",
        "\n",
        "source_image = imageio.imread('/content/gdrive/My Drive/first-order-motion-model/02.png')\n",
        "reader = imageio.get_reader('/content/gdrive/My Drive/first-order-motion-model/04.mp4')\n",
        "\n",
        "#Resize image and video to 256x256\n",
        "source_image = resize(source_image, (256, 256))[..., :3]\n",
        "\n",
        "fps = reader.get_meta_data()['fps']\n",
        "driving_video = []\n",
        "\n",
        "try:\n",
        "    for im in reader:\n",
        "        driving_video.append(im)\n",
        "except RuntimeError:\n",
        "    pass\n",
        "reader.close()\n",
        "\n",
        "driving_video = [resize(frame, (256, 256))[..., :3] for frame in driving_video]\n",
        "\n",
        "\n",
        "def display(source, driving, generated=None):\n",
        "    fig = plt.figure(figsize=(8 + 4 * (generated is not None), 6))\n",
        "\n",
        "    ims = []\n",
        "    for i in range(len(driving)):\n",
        "        cols = [source]\n",
        "        cols.append(driving[i])\n",
        "        if generated is not None:\n",
        "            cols.append(generated[i])\n",
        "        im = plt.imshow(np.concatenate(cols, axis=1), animated=True)\n",
        "        plt.axis('off')\n",
        "        ims.append([im])\n",
        "\n",
        "    ani = animation.ArtistAnimation(fig, ims, interval=50, repeat_delay=1000)\n",
        "    plt.close()\n",
        "    return ani\n",
        "    \n",
        "\n",
        "HTML(display(source_image, driving_video).to_html5_video())"
      ],
      "execution_count": null,
      "outputs": []
    },
    {
      "cell_type": "markdown",
      "metadata": {
        "id": "HPDwuIOF1W0X"
      },
      "source": [
        "Carga el modelo preentrenado de IA en el notebook (puede tardar unos segundos)."
      ]
    },
    {
      "cell_type": "code",
      "metadata": {
        "id": "i5lFfHBy1wQG"
      },
      "source": [
        "from demo import load_checkpoints\n",
        "generator, kp_detector = load_checkpoints(config_path='config/vox-256.yaml', \n",
        "                            checkpoint_path='/content/gdrive/My Drive/first-order-motion-model/vox-cpk.pth.tar')"
      ],
      "execution_count": null,
      "outputs": []
    },
    {
      "cell_type": "markdown",
      "metadata": {
        "id": "mZmhyvda1yCf"
      },
      "source": [
        "A continuación se extraerán los rasgos del video y se trasladarán a la imagen objetivo. Tras ejectuar la celda podrás ver el resultado final."
      ]
    },
    {
      "cell_type": "code",
      "metadata": {
        "id": "zACMKXU22P6X"
      },
      "source": [
        "from demo import make_animation\n",
        "from skimage import img_as_ubyte\n",
        "\n",
        "predictions = make_animation(source_image, driving_video, generator, kp_detector, relative=True)\n",
        "\n",
        "imageio.mimsave('../generated.mp4', [img_as_ubyte(frame) for frame in predictions], fps=fps)\n",
        "HTML(display(source_image, driving_video, predictions).to_html5_video())"
      ],
      "execution_count": null,
      "outputs": []
    },
    {
      "cell_type": "markdown",
      "metadata": {
        "id": "s-zf9fXL4EXC"
      },
      "source": [
        "En la carpeta que verás a la izquierda de la pantalla verás que se ha generado un archivo de nombre *generated.mp4*. Este archivo alojará el resultado del Deepfake. Puedes descargártelo para compartirlo con tus amigos.\n",
        "\n",
        "Antes de continuar con la práctica prueba de realizar distintas combinaciones con el material proporcionado en la carpeta de muestra."
      ]
    },
    {
      "cell_type": "markdown",
      "metadata": {
        "id": "snAGdq8G4i8m"
      },
      "source": [
        "# Utiliza tus propios datos\n",
        "\n",
        "Hasta ahora hemos experimentado con las opciones que venían por defecto en la carpeta general. En esta sección aprenderás como puedes utilizar tus propios videos e imágenes para generar un Deepfake personalizado.\n",
        "\n",
        "Lo primero será obtener la imagen a la que querrás transferir las expresiones. Para ello puedes seleccionar cualquier imagen y con un programa de edición (Photoshop, GIMP, Paint, ...) recortar únicamente la parte de la cabeza.\n",
        "\n",
        "Una vez tengas la imagen guárdala como *image_test.png* en la carpeta de Drive que has utilizado en el apartado anterior."
      ]
    },
    {
      "cell_type": "markdown",
      "metadata": {
        "id": "-9uPCryn6GfL"
      },
      "source": [
        "![sample.jpg](data:image/jpeg;base64,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)"
      ]
    },
    {
      "cell_type": "markdown",
      "metadata": {
        "id": "OGbA_sey6QOY"
      },
      "source": [
        "El siguiente paso será obtener el video del cual extraerás las expresiones. Obtener un vídeo donde solo aparezca la cara de la persona puede resultar complicado. Por este motivo para obtener el video fuente puedes optar por dos opciones:\n",
        "- Grábate a ti mismo hablando, gesticulando o parpadeando. Trata de que en el video solo aparezca tu cara y el fondo sea lo más homogéneo posible (por ejemplo, ponte contra una pared).\n",
        "\n",
        "- Utiliza algún software de grabación o de edición de video para obtener un clip en el que solo aparezca la cara de la persona. Los ejemplos más sencillos son aquellos en los que la persona es entrevistada, está dando un discurso o habla hacia la cámara sin moverse mucho.\n",
        "\n",
        "Puede utilizar como ejemplo [este vídeo](https://www.youtube.com/watch?v=zd2Ey5HDNY8) del divulgador Javier Santaolalla. Trata de extraer un video en el que se solo aparezca su cara (por ejemplo, del minuto 2:52 a 3:02, añadiendo algún tipo de recorte con software de grabación o edición).\n",
        "\n",
        "El vídeo que utilices debe tener una duración mínima de 8 segundos y tener unas dimensiones lo más cuadradas posibles. Sube tu vídeo a la carpeta de material con el nombre *video_test.mov* (puedes utilizar otras extensiones como mp4).\n",
        "\n",
        "En la siguiente celda preprocesaremos el vídeo. Indica tras el parámetro -t el número de segundos de vídeo que quieres utilizar (por defecto 8 segundos). Si tu vídeo no está en formato mov modifica la extensión en la ruta que aparece previamente al parámetro -ss."
      ]
    },
    {
      "cell_type": "code",
      "metadata": {
        "id": "GB-xKKkg4-CG"
      },
      "source": [
        "!ffmpeg -i /content/gdrive/My\\ Drive/first-order-motion-model/video_test.mov -ss 00:00:00 -t 00:00:10 -async 1 hinton.mp4"
      ],
      "execution_count": null,
      "outputs": []
    },
    {
      "cell_type": "markdown",
      "metadata": {
        "id": "wYIdh28KAiyf"
      },
      "source": [
        "Finalmente ejecutando la siguiente celda generarás el Deepfake (puede tardar unos minutos)."
      ]
    },
    {
      "cell_type": "code",
      "metadata": {
        "id": "lX8qMtymArMJ"
      },
      "source": [
        "source_image = imageio.imread('/content/gdrive/My Drive/first-order-motion-model/image_test.png')\n",
        "driving_video = imageio.mimread('hinton.mp4', memtest=False)\n",
        "\n",
        "source_image = resize(source_image, (256, 256))[..., :3]\n",
        "driving_video = [resize(frame, (256, 256))[..., :3] for frame in driving_video]\n",
        "\n",
        "predictions = make_animation(source_image, driving_video, generator, kp_detector, relative=True,\n",
        "                             adapt_movement_scale=True)\n",
        "\n",
        "imageio.mimsave('../generated_custom.mp4', [img_as_ubyte(frame) for frame in predictions], fps=fps)\n",
        "HTML(display(source_image, driving_video, predictions).to_html5_video())"
      ],
      "execution_count": null,
      "outputs": []
    },
    {
      "cell_type": "markdown",
      "metadata": {
        "id": "2tfuhQrYBH_Q"
      },
      "source": [
        "En la pestaña de la izquierda encontrarás el Deepfake generado con el nombre *generated_custom.mp4* disponible para descargártelo."
      ]
    },
    {
      "cell_type": "markdown",
      "metadata": {
        "id": "xnwR9V6_BnhT"
      },
      "source": [
        "# Siguientes pasos\n",
        "\n",
        "Ahora que ya dominas la creación de Deepfakes puedes mejorar incluso más el resultado. Nota que en este proceso se ha perdido el audio del vídeo. Utiliza algún software de edición de vídeo para añadirlo (a partir del vídeo original) para que tu resultado sea mucho más realista.\n",
        "\n",
        "Pon a prueba el modelo de IA en situaciones extremas:\n",
        "* ¿Qué ocurre cuando la dirección de la cara no coincide entre video e imagen?\n",
        "* ¿Qué ocurre si en el video no aparece solo la cara, sino que tiene un zoom más alejado?\n",
        "* ¿Qué ocurre si en la imagen objetivo aparece más de una cara?\n",
        "\n",
        "Experimenta con distintos vídeos e imágenes y trata de obtener un Deepfake que sea indistinguible de la realidad. ¿Serás capaz de obtener el mejor resultado del taller?\n",
        "\n",
        "Ponte manos a la obra y **#reinventalapelicula**."
      ]
    },
    {
      "cell_type": "code",
      "metadata": {
        "id": "sK5VscWzBNRr"
      },
      "source": [
        ""
      ],
      "execution_count": null,
      "outputs": []
    }
  ]
}